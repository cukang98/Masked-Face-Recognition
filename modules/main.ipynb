{
 "cells": [
  {
   "cell_type": "code",
   "execution_count": 1,
   "metadata": {},
   "outputs": [],
   "source": [
    "from keras.applications.vgg16 import VGG16\n",
    "from keras.preprocessing import image\n",
    "from keras.preprocessing.image import ImageDataGenerator\n",
    "from keras.models import Sequential\n",
    "import numpy as np\n",
    "import os\n",
    "import cv2\n"
   ]
  },
  {
   "cell_type": "markdown",
   "metadata": {},
   "source": [
    "## Mask Detection - VGG16"
   ]
  },
  {
   "cell_type": "code",
   "execution_count": 2,
   "metadata": {},
   "outputs": [],
   "source": [
    "categories=['train','test']\n",
    "categories1=['without_mask','with_mask']"
   ]
  },
  {
   "cell_type": "code",
   "execution_count": 3,
   "metadata": {},
   "outputs": [],
   "source": [
    "data1=[]\n",
    "for category in categories1:\n",
    "    path=os.path.join('dataset\\mask_detection',category)\n",
    "    label1=categories1.index(category)\n",
    "    for file in os.listdir(path):\n",
    "       img_path=os.path.join(path,file)\n",
    "       img=cv2.imread(img_path)\n",
    "       img=cv2.resize(img,(224,224))\n",
    "       data1.append([img,label1])"
   ]
  },
  {
   "cell_type": "code",
   "execution_count": 4,
   "metadata": {
    "scrolled": true
   },
   "outputs": [],
   "source": [
    "import random\n",
    "random.shuffle(data1)"
   ]
  },
  {
   "cell_type": "code",
   "execution_count": 5,
   "metadata": {},
   "outputs": [
    {
     "data": {
      "text/plain": [
       "array([[[0.18039216, 0.19607843, 0.18823529],\n",
       "        [0.1372549 , 0.14901961, 0.14117647],\n",
       "        [0.10196078, 0.10980392, 0.10980392],\n",
       "        ...,\n",
       "        [0.09803922, 0.1372549 , 0.16470588],\n",
       "        [0.07058824, 0.10980392, 0.1372549 ],\n",
       "        [0.08627451, 0.1254902 , 0.15686275]],\n",
       "\n",
       "       [[0.13333333, 0.14509804, 0.1372549 ],\n",
       "        [0.08627451, 0.10196078, 0.09411765],\n",
       "        [0.12941176, 0.1372549 , 0.1372549 ],\n",
       "        ...,\n",
       "        [0.07058824, 0.10980392, 0.13333333],\n",
       "        [0.10196078, 0.14117647, 0.16470588],\n",
       "        [0.06666667, 0.10196078, 0.12941176]],\n",
       "\n",
       "       [[0.09411765, 0.10588235, 0.09803922],\n",
       "        [0.09411765, 0.10588235, 0.09803922],\n",
       "        [0.13333333, 0.14117647, 0.14117647],\n",
       "        ...,\n",
       "        [0.05098039, 0.08627451, 0.10588235],\n",
       "        [0.09411765, 0.1254902 , 0.15294118],\n",
       "        [0.10980392, 0.14117647, 0.16862745]],\n",
       "\n",
       "       ...,\n",
       "\n",
       "       [[0.09803922, 0.08235294, 0.0627451 ],\n",
       "        [0.09411765, 0.07843137, 0.05882353],\n",
       "        [0.08627451, 0.0745098 , 0.05490196],\n",
       "        ...,\n",
       "        [0.34509804, 0.53333333, 0.65882353],\n",
       "        [0.34509804, 0.5372549 , 0.67058824],\n",
       "        [0.35294118, 0.54117647, 0.6745098 ]],\n",
       "\n",
       "       [[0.09411765, 0.07843137, 0.05882353],\n",
       "        [0.09411765, 0.07843137, 0.05882353],\n",
       "        [0.08627451, 0.0745098 , 0.05490196],\n",
       "        ...,\n",
       "        [0.34901961, 0.54117647, 0.66666667],\n",
       "        [0.35686275, 0.54509804, 0.67843137],\n",
       "        [0.36078431, 0.54901961, 0.68235294]],\n",
       "\n",
       "       [[0.09411765, 0.07843137, 0.05882353],\n",
       "        [0.09411765, 0.07843137, 0.05882353],\n",
       "        [0.08627451, 0.0745098 , 0.05490196],\n",
       "        ...,\n",
       "        [0.34901961, 0.54117647, 0.66666667],\n",
       "        [0.34509804, 0.54509804, 0.6745098 ],\n",
       "        [0.36078431, 0.55686275, 0.69803922]]])"
      ]
     },
     "execution_count": 5,
     "metadata": {},
     "output_type": "execute_result"
    }
   ],
   "source": [
    "x1=[]\n",
    "y1=[]\n",
    "for features1,label1 in data1:\n",
    "    x1.append(features1)\n",
    "    y1.append(label1)\n",
    "\n",
    "    \n",
    "x1=np.array(x1)\n",
    "y1=np.array(y1)\n",
    "\n",
    "\n",
    "x1=x1/255\n",
    "\n",
    "x1[0]"
   ]
  },
  {
   "cell_type": "code",
   "execution_count": 6,
   "metadata": {},
   "outputs": [],
   "source": [
    "from sklearn.model_selection  import train_test_split\n",
    "x_train1_full,x_test1,y_train1_full,y_test1=train_test_split(x1,y1,test_size=0.2,random_state = 42)\n",
    "x_train, x_valid = x_train1_full[:-70], x_train1_full[-70:]\n",
    "y_train, y_valid = y_train1_full[:-70], y_train1_full[-70:]"
   ]
  },
  {
   "cell_type": "code",
   "execution_count": 7,
   "metadata": {},
   "outputs": [
    {
     "data": {
      "text/plain": [
       "282"
      ]
     },
     "execution_count": 7,
     "metadata": {},
     "output_type": "execute_result"
    }
   ],
   "source": [
    "x_train.shape\n",
    "x_valid.shape\n",
    "len(x_train)"
   ]
  },
  {
   "cell_type": "code",
   "execution_count": 8,
   "metadata": {},
   "outputs": [],
   "source": [
    "datagen = ImageDataGenerator(\n",
    "        zca_whitening=False,  # apply ZCA whitening\n",
    "        rotation_range = 30,  # randomly rotate images in the range (degrees, 0 to 180)\n",
    "        zoom_range = 0.2, # Randomly zoom image \n",
    "        width_shift_range=0.1,  # randomly shift images horizontally (fraction of total width)\n",
    "        height_shift_range=0.1,  # randomly shift images vertically (fraction of total height)\n",
    "        horizontal_flip = True,  # randomly flip images\n",
    "        vertical_flip=False)  # randomly flip images\n",
    "\n",
    "datagen.fit(x_train)"
   ]
  },
  {
   "cell_type": "code",
   "execution_count": 9,
   "metadata": {},
   "outputs": [],
   "source": [
    "model=Sequential()\n",
    "vgg=VGG16()\n",
    "for layer in vgg.layers[:-1]:\n",
    "    model.add(layer)\n",
    "    \n",
    "for layer in model.layers:\n",
    "    layer.trainable=False"
   ]
  },
  {
   "cell_type": "code",
   "execution_count": 10,
   "metadata": {},
   "outputs": [
    {
     "name": "stdout",
     "output_type": "stream",
     "text": [
      "Model: \"sequential\"\n",
      "_________________________________________________________________\n",
      "Layer (type)                 Output Shape              Param #   \n",
      "=================================================================\n",
      "block1_conv1 (Conv2D)        (None, 224, 224, 64)      1792      \n",
      "_________________________________________________________________\n",
      "block1_conv2 (Conv2D)        (None, 224, 224, 64)      36928     \n",
      "_________________________________________________________________\n",
      "block1_pool (MaxPooling2D)   (None, 112, 112, 64)      0         \n",
      "_________________________________________________________________\n",
      "block2_conv1 (Conv2D)        (None, 112, 112, 128)     73856     \n",
      "_________________________________________________________________\n",
      "block2_conv2 (Conv2D)        (None, 112, 112, 128)     147584    \n",
      "_________________________________________________________________\n",
      "block2_pool (MaxPooling2D)   (None, 56, 56, 128)       0         \n",
      "_________________________________________________________________\n",
      "block3_conv1 (Conv2D)        (None, 56, 56, 256)       295168    \n",
      "_________________________________________________________________\n",
      "block3_conv2 (Conv2D)        (None, 56, 56, 256)       590080    \n",
      "_________________________________________________________________\n",
      "block3_conv3 (Conv2D)        (None, 56, 56, 256)       590080    \n",
      "_________________________________________________________________\n",
      "block3_pool (MaxPooling2D)   (None, 28, 28, 256)       0         \n",
      "_________________________________________________________________\n",
      "block4_conv1 (Conv2D)        (None, 28, 28, 512)       1180160   \n",
      "_________________________________________________________________\n",
      "block4_conv2 (Conv2D)        (None, 28, 28, 512)       2359808   \n",
      "_________________________________________________________________\n",
      "block4_conv3 (Conv2D)        (None, 28, 28, 512)       2359808   \n",
      "_________________________________________________________________\n",
      "block4_pool (MaxPooling2D)   (None, 14, 14, 512)       0         \n",
      "_________________________________________________________________\n",
      "block5_conv1 (Conv2D)        (None, 14, 14, 512)       2359808   \n",
      "_________________________________________________________________\n",
      "block5_conv2 (Conv2D)        (None, 14, 14, 512)       2359808   \n",
      "_________________________________________________________________\n",
      "block5_conv3 (Conv2D)        (None, 14, 14, 512)       2359808   \n",
      "_________________________________________________________________\n",
      "block5_pool (MaxPooling2D)   (None, 7, 7, 512)         0         \n",
      "_________________________________________________________________\n",
      "flatten (Flatten)            (None, 25088)             0         \n",
      "_________________________________________________________________\n",
      "fc1 (Dense)                  (None, 4096)              102764544 \n",
      "_________________________________________________________________\n",
      "fc2 (Dense)                  (None, 4096)              16781312  \n",
      "=================================================================\n",
      "Total params: 134,260,544\n",
      "Trainable params: 0\n",
      "Non-trainable params: 134,260,544\n",
      "_________________________________________________________________\n"
     ]
    }
   ],
   "source": [
    "model.build(x_train.shape)\n",
    "model.summary()"
   ]
  },
  {
   "cell_type": "code",
   "execution_count": 11,
   "metadata": {},
   "outputs": [
    {
     "name": "stdout",
     "output_type": "stream",
     "text": [
      "Model: \"vgg16\"\n",
      "_________________________________________________________________\n",
      "Layer (type)                 Output Shape              Param #   \n",
      "=================================================================\n",
      "input_2 (InputLayer)         [(None, 224, 224, 3)]     0         \n",
      "_________________________________________________________________\n",
      "block1_conv1 (Conv2D)        (None, 224, 224, 64)      1792      \n",
      "_________________________________________________________________\n",
      "block1_conv2 (Conv2D)        (None, 224, 224, 64)      36928     \n",
      "_________________________________________________________________\n",
      "block1_pool (MaxPooling2D)   (None, 112, 112, 64)      0         \n",
      "_________________________________________________________________\n",
      "block2_conv1 (Conv2D)        (None, 112, 112, 128)     73856     \n",
      "_________________________________________________________________\n",
      "block2_conv2 (Conv2D)        (None, 112, 112, 128)     147584    \n",
      "_________________________________________________________________\n",
      "block2_pool (MaxPooling2D)   (None, 56, 56, 128)       0         \n",
      "_________________________________________________________________\n",
      "block3_conv1 (Conv2D)        (None, 56, 56, 256)       295168    \n",
      "_________________________________________________________________\n",
      "block3_conv2 (Conv2D)        (None, 56, 56, 256)       590080    \n",
      "_________________________________________________________________\n",
      "block3_conv3 (Conv2D)        (None, 56, 56, 256)       590080    \n",
      "_________________________________________________________________\n",
      "block3_pool (MaxPooling2D)   (None, 28, 28, 256)       0         \n",
      "_________________________________________________________________\n",
      "block4_conv1 (Conv2D)        (None, 28, 28, 512)       1180160   \n",
      "_________________________________________________________________\n",
      "block4_conv2 (Conv2D)        (None, 28, 28, 512)       2359808   \n",
      "_________________________________________________________________\n",
      "block4_conv3 (Conv2D)        (None, 28, 28, 512)       2359808   \n",
      "_________________________________________________________________\n",
      "block4_pool (MaxPooling2D)   (None, 14, 14, 512)       0         \n",
      "_________________________________________________________________\n",
      "block5_conv1 (Conv2D)        (None, 14, 14, 512)       2359808   \n",
      "_________________________________________________________________\n",
      "block5_conv2 (Conv2D)        (None, 14, 14, 512)       2359808   \n",
      "_________________________________________________________________\n",
      "block5_conv3 (Conv2D)        (None, 14, 14, 512)       2359808   \n",
      "_________________________________________________________________\n",
      "block5_pool (MaxPooling2D)   (None, 7, 7, 512)         0         \n",
      "_________________________________________________________________\n",
      "flatten (Flatten)            (None, 25088)             0         \n",
      "_________________________________________________________________\n",
      "fc1 (Dense)                  (None, 4096)              102764544 \n",
      "_________________________________________________________________\n",
      "fc2 (Dense)                  (None, 4096)              16781312  \n",
      "_________________________________________________________________\n",
      "predictions (Dense)          (None, 1000)              4097000   \n",
      "=================================================================\n",
      "Total params: 138,357,544\n",
      "Trainable params: 138,357,544\n",
      "Non-trainable params: 0\n",
      "_________________________________________________________________\n"
     ]
    }
   ],
   "source": [
    "vgg1=VGG16()\n",
    "vgg1.summary()"
   ]
  },
  {
   "cell_type": "code",
   "execution_count": 12,
   "metadata": {},
   "outputs": [],
   "source": [
    "from tensorflow.keras.layers import Dense\n",
    "model.add(Dense(1,activation='sigmoid'))"
   ]
  },
  {
   "cell_type": "code",
   "execution_count": 13,
   "metadata": {},
   "outputs": [
    {
     "name": "stdout",
     "output_type": "stream",
     "text": [
      "Model: \"sequential\"\n",
      "_________________________________________________________________\n",
      "Layer (type)                 Output Shape              Param #   \n",
      "=================================================================\n",
      "block1_conv1 (Conv2D)        (None, 224, 224, 64)      1792      \n",
      "_________________________________________________________________\n",
      "block1_conv2 (Conv2D)        (None, 224, 224, 64)      36928     \n",
      "_________________________________________________________________\n",
      "block1_pool (MaxPooling2D)   (None, 112, 112, 64)      0         \n",
      "_________________________________________________________________\n",
      "block2_conv1 (Conv2D)        (None, 112, 112, 128)     73856     \n",
      "_________________________________________________________________\n",
      "block2_conv2 (Conv2D)        (None, 112, 112, 128)     147584    \n",
      "_________________________________________________________________\n",
      "block2_pool (MaxPooling2D)   (None, 56, 56, 128)       0         \n",
      "_________________________________________________________________\n",
      "block3_conv1 (Conv2D)        (None, 56, 56, 256)       295168    \n",
      "_________________________________________________________________\n",
      "block3_conv2 (Conv2D)        (None, 56, 56, 256)       590080    \n",
      "_________________________________________________________________\n",
      "block3_conv3 (Conv2D)        (None, 56, 56, 256)       590080    \n",
      "_________________________________________________________________\n",
      "block3_pool (MaxPooling2D)   (None, 28, 28, 256)       0         \n",
      "_________________________________________________________________\n",
      "block4_conv1 (Conv2D)        (None, 28, 28, 512)       1180160   \n",
      "_________________________________________________________________\n",
      "block4_conv2 (Conv2D)        (None, 28, 28, 512)       2359808   \n",
      "_________________________________________________________________\n",
      "block4_conv3 (Conv2D)        (None, 28, 28, 512)       2359808   \n",
      "_________________________________________________________________\n",
      "block4_pool (MaxPooling2D)   (None, 14, 14, 512)       0         \n",
      "_________________________________________________________________\n",
      "block5_conv1 (Conv2D)        (None, 14, 14, 512)       2359808   \n",
      "_________________________________________________________________\n",
      "block5_conv2 (Conv2D)        (None, 14, 14, 512)       2359808   \n",
      "_________________________________________________________________\n",
      "block5_conv3 (Conv2D)        (None, 14, 14, 512)       2359808   \n",
      "_________________________________________________________________\n",
      "block5_pool (MaxPooling2D)   (None, 7, 7, 512)         0         \n",
      "_________________________________________________________________\n",
      "flatten (Flatten)            (None, 25088)             0         \n",
      "_________________________________________________________________\n",
      "fc1 (Dense)                  (None, 4096)              102764544 \n",
      "_________________________________________________________________\n",
      "fc2 (Dense)                  (None, 4096)              16781312  \n",
      "_________________________________________________________________\n",
      "dense (Dense)                (None, 1)                 4097      \n",
      "=================================================================\n",
      "Total params: 134,264,641\n",
      "Trainable params: 4,097\n",
      "Non-trainable params: 134,260,544\n",
      "_________________________________________________________________\n"
     ]
    }
   ],
   "source": [
    "model.summary()"
   ]
  },
  {
   "cell_type": "code",
   "execution_count": 14,
   "metadata": {},
   "outputs": [],
   "source": [
    "from tensorflow.keras.callbacks import EarlyStopping\n",
    "\n",
    "model.compile(optimizer='Adam',loss='binary_crossentropy',metrics=['accuracy'])\n",
    "earlyStopping = EarlyStopping(monitor='val_loss',\n",
    "                              min_delta=0,\n",
    "                              patience=3,\n",
    "                              verbose=1,\n",
    "                              mode='min',\n",
    "                              restore_best_weights = True)"
   ]
  },
  {
   "cell_type": "code",
   "execution_count": 15,
   "metadata": {},
   "outputs": [
    {
     "name": "stdout",
     "output_type": "stream",
     "text": [
      "Epoch 1/20\n",
      "8/8 [==============================] - 62s 8s/step - loss: 0.5791 - accuracy: 0.8160 - val_loss: 0.4263 - val_accuracy: 1.0000\n",
      "Epoch 2/20\n",
      "8/8 [==============================] - 64s 8s/step - loss: 0.3871 - accuracy: 0.9922 - val_loss: 0.2861 - val_accuracy: 1.0000\n",
      "Epoch 3/20\n",
      "8/8 [==============================] - 58s 7s/step - loss: 0.2669 - accuracy: 0.9960 - val_loss: 0.2060 - val_accuracy: 1.0000\n",
      "Epoch 4/20\n",
      "8/8 [==============================] - 96s 11s/step - loss: 0.2093 - accuracy: 0.9880 - val_loss: 0.1571 - val_accuracy: 1.0000\n",
      "Epoch 5/20\n",
      "8/8 [==============================] - 64s 8s/step - loss: 0.1581 - accuracy: 1.0000 - val_loss: 0.1184 - val_accuracy: 1.0000\n",
      "Epoch 6/20\n",
      "8/8 [==============================] - 60s 8s/step - loss: 0.1277 - accuracy: 1.0000 - val_loss: 0.0939 - val_accuracy: 1.0000\n",
      "Epoch 7/20\n",
      "8/8 [==============================] - 65s 8s/step - loss: 0.1048 - accuracy: 1.0000 - val_loss: 0.0945 - val_accuracy: 1.0000\n",
      "Epoch 8/20\n",
      "8/8 [==============================] - 70s 9s/step - loss: 0.1032 - accuracy: 0.9880 - val_loss: 0.0678 - val_accuracy: 1.0000\n",
      "Epoch 9/20\n",
      "8/8 [==============================] - 64s 8s/step - loss: 0.0785 - accuracy: 1.0000 - val_loss: 0.0626 - val_accuracy: 1.0000\n",
      "Epoch 10/20\n",
      "8/8 [==============================] - 62s 8s/step - loss: 0.0744 - accuracy: 0.9920 - val_loss: 0.0528 - val_accuracy: 1.0000\n",
      "Epoch 11/20\n",
      "8/8 [==============================] - 61s 8s/step - loss: 0.0708 - accuracy: 0.9960 - val_loss: 0.0517 - val_accuracy: 1.0000\n",
      "Epoch 12/20\n",
      "8/8 [==============================] - 71s 9s/step - loss: 0.0617 - accuracy: 1.0000 - val_loss: 0.0454 - val_accuracy: 1.0000\n",
      "Epoch 13/20\n",
      "8/8 [==============================] - 75s 9s/step - loss: 0.0554 - accuracy: 1.0000 - val_loss: 0.0407 - val_accuracy: 1.0000\n",
      "Epoch 14/20\n",
      "8/8 [==============================] - 63s 8s/step - loss: 0.0570 - accuracy: 0.9960 - val_loss: 0.0438 - val_accuracy: 1.0000\n",
      "Epoch 15/20\n",
      "8/8 [==============================] - 63s 8s/step - loss: 0.0458 - accuracy: 1.0000 - val_loss: 0.0343 - val_accuracy: 1.0000\n",
      "Epoch 16/20\n",
      "8/8 [==============================] - 60s 8s/step - loss: 0.0462 - accuracy: 1.0000 - val_loss: 0.0315 - val_accuracy: 1.0000\n",
      "Epoch 17/20\n",
      "8/8 [==============================] - 61s 8s/step - loss: 0.0422 - accuracy: 1.0000 - val_loss: 0.0294 - val_accuracy: 1.0000\n",
      "Epoch 18/20\n",
      "8/8 [==============================] - 55s 7s/step - loss: 0.0376 - accuracy: 1.0000 - val_loss: 0.0291 - val_accuracy: 1.0000\n",
      "Epoch 19/20\n",
      "8/8 [==============================] - 56s 7s/step - loss: 0.0349 - accuracy: 1.0000 - val_loss: 0.0254 - val_accuracy: 1.0000\n",
      "Epoch 20/20\n",
      "8/8 [==============================] - 59s 8s/step - loss: 0.0364 - accuracy: 0.9960 - val_loss: 0.0274 - val_accuracy: 1.0000\n"
     ]
    },
    {
     "data": {
      "text/plain": [
       "<keras.callbacks.History at 0x1da652f9400>"
      ]
     },
     "execution_count": 15,
     "metadata": {},
     "output_type": "execute_result"
    }
   ],
   "source": [
    "model.fit(datagen.flow(x_train, y_train, batch_size=32),\n",
    "         steps_per_epoch=len(x_train) // 32, epochs=20,\n",
    "         validation_data=(x_valid,y_valid))"
   ]
  },
  {
   "cell_type": "code",
   "execution_count": 23,
   "metadata": {},
   "outputs": [
    {
     "name": "stdout",
     "output_type": "stream",
     "text": [
      "3/3 - 14s - loss: 0.0436 - accuracy: 0.9888\n",
      "Trained model, accuracy: 98.88%\n"
     ]
    }
   ],
   "source": [
    "loss, acc = model.evaluate(x_test1, y_test1, verbose=2)\n",
    "print(\"Trained model, accuracy: {:5.2f}%\".format(100 * acc))"
   ]
  },
  {
   "cell_type": "code",
   "execution_count": 71,
   "metadata": {
    "scrolled": true
   },
   "outputs": [
    {
     "name": "stdout",
     "output_type": "stream",
     "text": [
      "WARNING:tensorflow:AutoGraph could not transform <function canonicalize_signatures.<locals>.signature_wrapper at 0x00000231608F8940> and will run it as-is.\n",
      "Please report this to the TensorFlow team. When filing the bug, set the verbosity to 10 (on Linux, `export AUTOGRAPH_VERBOSITY=10`) and attach the full output.\n",
      "Cause: Unable to locate the source code of <function canonicalize_signatures.<locals>.signature_wrapper at 0x00000231608F8940>. Note that functions defined in certain environments, like the interactive Python shell do not expose their source code. If that is the case, you should to define them in a .py source file. If you are certain the code is graph-compatible, wrap the call using @tf.autograph.do_not_convert. Original error: could not get source code\n",
      "To silence this warning, decorate the function with @tf.autograph.experimental.do_not_convert\n"
     ]
    },
    {
     "name": "stderr",
     "output_type": "stream",
     "text": [
      "WARNING:tensorflow:AutoGraph could not transform <function canonicalize_signatures.<locals>.signature_wrapper at 0x00000231608F8940> and will run it as-is.\n",
      "Please report this to the TensorFlow team. When filing the bug, set the verbosity to 10 (on Linux, `export AUTOGRAPH_VERBOSITY=10`) and attach the full output.\n",
      "Cause: Unable to locate the source code of <function canonicalize_signatures.<locals>.signature_wrapper at 0x00000231608F8940>. Note that functions defined in certain environments, like the interactive Python shell do not expose their source code. If that is the case, you should to define them in a .py source file. If you are certain the code is graph-compatible, wrap the call using @tf.autograph.do_not_convert. Original error: could not get source code\n",
      "To silence this warning, decorate the function with @tf.autograph.experimental.do_not_convert\n"
     ]
    },
    {
     "name": "stdout",
     "output_type": "stream",
     "text": [
      "WARNING: AutoGraph could not transform <function canonicalize_signatures.<locals>.signature_wrapper at 0x00000231608F8940> and will run it as-is.\n",
      "Please report this to the TensorFlow team. When filing the bug, set the verbosity to 10 (on Linux, `export AUTOGRAPH_VERBOSITY=10`) and attach the full output.\n",
      "Cause: Unable to locate the source code of <function canonicalize_signatures.<locals>.signature_wrapper at 0x00000231608F8940>. Note that functions defined in certain environments, like the interactive Python shell do not expose their source code. If that is the case, you should to define them in a .py source file. If you are certain the code is graph-compatible, wrap the call using @tf.autograph.do_not_convert. Original error: could not get source code\n",
      "To silence this warning, decorate the function with @tf.autograph.experimental.do_not_convert\n"
     ]
    },
    {
     "name": "stderr",
     "output_type": "stream",
     "text": [
      "WARNING:absl:Found untraced functions such as dense_layer_call_fn, dense_layer_call_and_return_conditional_losses, dense_layer_call_fn, dense_layer_call_and_return_conditional_losses, dense_layer_call_and_return_conditional_losses while saving (showing 5 of 5). These functions will not be directly callable after loading.\n"
     ]
    },
    {
     "name": "stdout",
     "output_type": "stream",
     "text": [
      "INFO:tensorflow:Assets written to: model.model\\assets\n"
     ]
    },
    {
     "name": "stderr",
     "output_type": "stream",
     "text": [
      "INFO:tensorflow:Assets written to: model.model\\assets\n"
     ]
    }
   ],
   "source": [
    "model.save(\"model.model\")"
   ]
  },
  {
   "cell_type": "markdown",
   "metadata": {},
   "source": [
    "## Masked Face Recognition VGG16 (VGGFace)"
   ]
  },
  {
   "cell_type": "code",
   "execution_count": 11,
   "metadata": {},
   "outputs": [],
   "source": [
    "categories=['train','test']\n",
    "data=[]\n",
    "cate=[]\n",
    "for category in categories:\n",
    "    path=os.path.join('dataset',category)\n",
    "    for file in os.listdir(path):\n",
    "        if not file.startswith('.'):\n",
    "            img_path=os.path.join(path,file)\n",
    "            cate.append(file)\n",
    "            label=cate.index(file)\n",
    "            files=os.listdir(img_path)\n",
    "            for i in files:\n",
    "                p=os.path.join(img_path,i)\n",
    "                img_path=os.path.join(path,file)\n",
    "                #print(p)\n",
    "                img=cv2.imread(p)\n",
    "                img=cv2.resize(img,(224,224))\n",
    "                data.append([img,label])"
   ]
  },
  {
   "cell_type": "code",
   "execution_count": 12,
   "metadata": {},
   "outputs": [
    {
     "name": "stdout",
     "output_type": "stream",
     "text": [
      "['adriana_lima', 'alex_lawther', 'amber_heard', 'ben_affleck', 'bill_gates', 'bobby_morley', 'chris_evans', 'cristiano_ronaldo', 'cukang', 'dwayne_johnson', 'elon_musk', 'emilia_clarke', 'grant_gustin', 'gwyneth_paltrow', 'jeremy_renner', 'jimmy_fallon', 'maisie_williams', 'markzuckerberg', 'mark_wahlberg', 'rihanna', 'tom_cruise', 'will_smith', 'zoe_saldana']\n",
      "23\n"
     ]
    }
   ],
   "source": [
    "h=(int(len(cate)/2))\n",
    "del cate[:h]\n",
    "print(cate)\n",
    "print(len(cate))"
   ]
  },
  {
   "cell_type": "code",
   "execution_count": 13,
   "metadata": {},
   "outputs": [],
   "source": [
    "import random\n",
    "random.shuffle(data)"
   ]
  },
  {
   "cell_type": "code",
   "execution_count": 14,
   "metadata": {},
   "outputs": [],
   "source": [
    "x=[]\n",
    "y=[]\n",
    "for features,label in data:\n",
    "    x.append(features)\n",
    "    y.append(label)"
   ]
  },
  {
   "cell_type": "code",
   "execution_count": 15,
   "metadata": {},
   "outputs": [],
   "source": [
    "x=np.array(x)\n",
    "y=np.array(y)\n",
    "\n",
    "x=x/255"
   ]
  },
  {
   "cell_type": "code",
   "execution_count": 16,
   "metadata": {},
   "outputs": [],
   "source": [
    "from sklearn.model_selection  import train_test_split\n",
    "x_train_full,x_test,y_train_full,y_test=train_test_split(x,y,test_size=0.2,random_state = 42)\n",
    "x_train, x_valid = x_train_full[:-70], x_train_full[-70:]\n",
    "y_train, y_valid = y_train_full[:-70], y_train_full[-70:]"
   ]
  },
  {
   "cell_type": "code",
   "execution_count": 11,
   "metadata": {},
   "outputs": [
    {
     "data": {
      "text/plain": [
       "(183, 224, 224, 3)"
      ]
     },
     "execution_count": 11,
     "metadata": {},
     "output_type": "execute_result"
    }
   ],
   "source": [
    "x_train_full.shape"
   ]
  },
  {
   "cell_type": "code",
   "execution_count": 9,
   "metadata": {},
   "outputs": [],
   "source": [
    "datagen = ImageDataGenerator(\n",
    "        zca_whitening=False,  # apply ZCA whitening\n",
    "        rotation_range = 30,  # randomly rotate images in the range (degrees, 0 to 180)\n",
    "        zoom_range = 0.2, # Randomly zoom image \n",
    "        width_shift_range=0.1,  # randomly shift images horizontally (fraction of total width)\n",
    "        height_shift_range=0.1,  # randomly shift images vertically (fraction of total height)\n",
    "        horizontal_flip = True,  # randomly flip images\n",
    "        vertical_flip=False)  # randomly flip images"
   ]
  },
  {
   "cell_type": "code",
   "execution_count": 13,
   "metadata": {},
   "outputs": [],
   "source": [
    "model_vgg16=Sequential()\n",
    "vgg=VGG16()\n",
    "for layer in vgg.layers[:-1]:\n",
    "    model_vgg16.add(layer)"
   ]
  },
  {
   "cell_type": "code",
   "execution_count": 14,
   "metadata": {},
   "outputs": [],
   "source": [
    "for layer in model_vgg16.layers:\n",
    "    layer.trainable=False"
   ]
  },
  {
   "cell_type": "code",
   "execution_count": 15,
   "metadata": {},
   "outputs": [],
   "source": [
    "from keras.layers import Dense\n",
    "model_vgg16.add(Dense(len(cate),activation='softmax'))"
   ]
  },
  {
   "cell_type": "code",
   "execution_count": 16,
   "metadata": {},
   "outputs": [
    {
     "name": "stdout",
     "output_type": "stream",
     "text": [
      "Model: \"sequential\"\n",
      "_________________________________________________________________\n",
      "Layer (type)                 Output Shape              Param #   \n",
      "=================================================================\n",
      "block1_conv1 (Conv2D)        (None, 224, 224, 64)      1792      \n",
      "_________________________________________________________________\n",
      "block1_conv2 (Conv2D)        (None, 224, 224, 64)      36928     \n",
      "_________________________________________________________________\n",
      "block1_pool (MaxPooling2D)   (None, 112, 112, 64)      0         \n",
      "_________________________________________________________________\n",
      "block2_conv1 (Conv2D)        (None, 112, 112, 128)     73856     \n",
      "_________________________________________________________________\n",
      "block2_conv2 (Conv2D)        (None, 112, 112, 128)     147584    \n",
      "_________________________________________________________________\n",
      "block2_pool (MaxPooling2D)   (None, 56, 56, 128)       0         \n",
      "_________________________________________________________________\n",
      "block3_conv1 (Conv2D)        (None, 56, 56, 256)       295168    \n",
      "_________________________________________________________________\n",
      "block3_conv2 (Conv2D)        (None, 56, 56, 256)       590080    \n",
      "_________________________________________________________________\n",
      "block3_conv3 (Conv2D)        (None, 56, 56, 256)       590080    \n",
      "_________________________________________________________________\n",
      "block3_pool (MaxPooling2D)   (None, 28, 28, 256)       0         \n",
      "_________________________________________________________________\n",
      "block4_conv1 (Conv2D)        (None, 28, 28, 512)       1180160   \n",
      "_________________________________________________________________\n",
      "block4_conv2 (Conv2D)        (None, 28, 28, 512)       2359808   \n",
      "_________________________________________________________________\n",
      "block4_conv3 (Conv2D)        (None, 28, 28, 512)       2359808   \n",
      "_________________________________________________________________\n",
      "block4_pool (MaxPooling2D)   (None, 14, 14, 512)       0         \n",
      "_________________________________________________________________\n",
      "block5_conv1 (Conv2D)        (None, 14, 14, 512)       2359808   \n",
      "_________________________________________________________________\n",
      "block5_conv2 (Conv2D)        (None, 14, 14, 512)       2359808   \n",
      "_________________________________________________________________\n",
      "block5_conv3 (Conv2D)        (None, 14, 14, 512)       2359808   \n",
      "_________________________________________________________________\n",
      "block5_pool (MaxPooling2D)   (None, 7, 7, 512)         0         \n",
      "_________________________________________________________________\n",
      "flatten (Flatten)            (None, 25088)             0         \n",
      "_________________________________________________________________\n",
      "fc1 (Dense)                  (None, 4096)              102764544 \n",
      "_________________________________________________________________\n",
      "fc2 (Dense)                  (None, 4096)              16781312  \n",
      "_________________________________________________________________\n",
      "dense (Dense)                (None, 23)                94231     \n",
      "=================================================================\n",
      "Total params: 134,354,775\n",
      "Trainable params: 94,231\n",
      "Non-trainable params: 134,260,544\n",
      "_________________________________________________________________\n"
     ]
    }
   ],
   "source": [
    "model_vgg16.summary()"
   ]
  },
  {
   "cell_type": "code",
   "execution_count": 17,
   "metadata": {},
   "outputs": [],
   "source": [
    "from tensorflow.keras import optimizers\n",
    "from tensorflow.keras.callbacks import EarlyStopping, ModelCheckpoint\n",
    "\n",
    "optimizer = optimizers.Adam(learning_rate=0.001)\n",
    "earlyStopping = EarlyStopping(monitor='val_loss',\n",
    "                              min_delta=0,\n",
    "                              patience=5,\n",
    "                              verbose=1,\n",
    "                              mode='min',\n",
    "                              restore_best_weights = True)\n",
    "model_vgg16.compile(optimizer=optimizer,\n",
    "                    loss='sparse_categorical_crossentropy',\n",
    "                    metrics=['accuracy'])"
   ]
  },
  {
   "cell_type": "code",
   "execution_count": 18,
   "metadata": {
    "scrolled": false
   },
   "outputs": [
    {
     "name": "stdout",
     "output_type": "stream",
     "text": [
      "Epoch 1/100\n",
      "14/14 [==============================] - 30s 2s/step - loss: 4.7842 - accuracy: 0.0381 - val_loss: 4.1879 - val_accuracy: 0.0571\n",
      "Epoch 2/100\n",
      "14/14 [==============================] - 34s 2s/step - loss: 4.1205 - accuracy: 0.0381 - val_loss: 3.6655 - val_accuracy: 0.0571\n",
      "Epoch 3/100\n",
      "14/14 [==============================] - 36s 3s/step - loss: 3.6534 - accuracy: 0.0571 - val_loss: 3.4514 - val_accuracy: 0.0429\n",
      "Epoch 4/100\n",
      "14/14 [==============================] - 36s 3s/step - loss: 3.5587 - accuracy: 0.0571 - val_loss: 3.7849 - val_accuracy: 0.0571\n",
      "Epoch 5/100\n",
      "14/14 [==============================] - 39s 3s/step - loss: 3.2687 - accuracy: 0.1524 - val_loss: 3.1543 - val_accuracy: 0.0714\n",
      "Epoch 6/100\n",
      "14/14 [==============================] - 36s 3s/step - loss: 3.1303 - accuracy: 0.1429 - val_loss: 3.1053 - val_accuracy: 0.1286\n",
      "Epoch 7/100\n",
      "14/14 [==============================] - 34s 3s/step - loss: 3.0403 - accuracy: 0.0952 - val_loss: 3.1622 - val_accuracy: 0.1857\n",
      "Epoch 8/100\n",
      "14/14 [==============================] - 35s 3s/step - loss: 2.7195 - accuracy: 0.2190 - val_loss: 3.2071 - val_accuracy: 0.1143\n",
      "Epoch 9/100\n",
      "14/14 [==============================] - 37s 3s/step - loss: 2.7655 - accuracy: 0.2232 - val_loss: 3.3654 - val_accuracy: 0.1857\n",
      "Epoch 10/100\n",
      "14/14 [==============================] - 38s 3s/step - loss: 2.6219 - accuracy: 0.3393 - val_loss: 2.8906 - val_accuracy: 0.1857\n",
      "Epoch 11/100\n",
      "14/14 [==============================] - 37s 3s/step - loss: 2.5616 - accuracy: 0.2095 - val_loss: 3.3144 - val_accuracy: 0.1571\n",
      "Epoch 12/100\n",
      "14/14 [==============================] - 37s 3s/step - loss: 2.5714 - accuracy: 0.2952 - val_loss: 2.7112 - val_accuracy: 0.2571\n",
      "Epoch 13/100\n",
      "14/14 [==============================] - 37s 3s/step - loss: 2.4588 - accuracy: 0.3143 - val_loss: 2.9814 - val_accuracy: 0.1571\n",
      "Epoch 14/100\n",
      "14/14 [==============================] - 38s 3s/step - loss: 2.3382 - accuracy: 0.2857 - val_loss: 2.7059 - val_accuracy: 0.1714\n",
      "Epoch 15/100\n",
      "14/14 [==============================] - 37s 3s/step - loss: 2.2212 - accuracy: 0.3333 - val_loss: 3.0426 - val_accuracy: 0.2000\n",
      "Epoch 16/100\n",
      "14/14 [==============================] - 38s 3s/step - loss: 2.7600 - accuracy: 0.2095 - val_loss: 3.0646 - val_accuracy: 0.2429\n",
      "Epoch 17/100\n",
      "14/14 [==============================] - 37s 3s/step - loss: 2.4929 - accuracy: 0.4476 - val_loss: 3.0155 - val_accuracy: 0.3000\n",
      "Epoch 18/100\n",
      "14/14 [==============================] - 36s 3s/step - loss: 2.5944 - accuracy: 0.2952 - val_loss: 3.1138 - val_accuracy: 0.1857\n",
      "Epoch 19/100\n",
      "14/14 [==============================] - 38s 3s/step - loss: 2.1185 - accuracy: 0.4095 - val_loss: 2.8321 - val_accuracy: 0.2429\n",
      "Epoch 20/100\n",
      "14/14 [==============================] - 38s 3s/step - loss: 2.1644 - accuracy: 0.3929 - val_loss: 2.6046 - val_accuracy: 0.3286\n",
      "Epoch 21/100\n",
      "14/14 [==============================] - 37s 3s/step - loss: 1.9958 - accuracy: 0.4095 - val_loss: 2.8617 - val_accuracy: 0.1571\n",
      "Epoch 22/100\n",
      "14/14 [==============================] - 37s 3s/step - loss: 1.8807 - accuracy: 0.4286 - val_loss: 2.2748 - val_accuracy: 0.3714\n",
      "Epoch 23/100\n",
      "14/14 [==============================] - 38s 3s/step - loss: 1.9853 - accuracy: 0.4476 - val_loss: 2.3992 - val_accuracy: 0.2857\n",
      "Epoch 24/100\n",
      "14/14 [==============================] - 37s 3s/step - loss: 1.7460 - accuracy: 0.4952 - val_loss: 2.6362 - val_accuracy: 0.0857\n",
      "Epoch 25/100\n",
      "14/14 [==============================] - 37s 3s/step - loss: 1.9119 - accuracy: 0.4286 - val_loss: 2.5713 - val_accuracy: 0.3571\n",
      "Epoch 26/100\n",
      "14/14 [==============================] - 38s 3s/step - loss: 1.9434 - accuracy: 0.4643 - val_loss: 3.0878 - val_accuracy: 0.3571\n",
      "Epoch 27/100\n",
      "14/14 [==============================] - 37s 3s/step - loss: 1.9757 - accuracy: 0.4952 - val_loss: 2.4272 - val_accuracy: 0.3571\n",
      "Epoch 28/100\n",
      "14/14 [==============================] - 36s 3s/step - loss: 1.7400 - accuracy: 0.5143 - val_loss: 3.1295 - val_accuracy: 0.2286\n",
      "Epoch 29/100\n",
      "14/14 [==============================] - 36s 3s/step - loss: 1.7737 - accuracy: 0.4952 - val_loss: 3.0789 - val_accuracy: 0.3286\n",
      "Epoch 30/100\n",
      "14/14 [==============================] - 36s 3s/step - loss: 2.0792 - accuracy: 0.4952 - val_loss: 2.8300 - val_accuracy: 0.3857\n",
      "Epoch 31/100\n",
      "14/14 [==============================] - 38s 3s/step - loss: 2.0348 - accuracy: 0.5810 - val_loss: 2.3506 - val_accuracy: 0.3857\n",
      "Epoch 32/100\n",
      "14/14 [==============================] - 36s 3s/step - loss: 1.8156 - accuracy: 0.4762 - val_loss: 2.1927 - val_accuracy: 0.2857\n",
      "Epoch 33/100\n",
      "14/14 [==============================] - 37s 3s/step - loss: 1.6226 - accuracy: 0.5905 - val_loss: 2.3557 - val_accuracy: 0.3571\n",
      "Epoch 34/100\n",
      "14/14 [==============================] - 37s 3s/step - loss: 1.4142 - accuracy: 0.6000 - val_loss: 2.4428 - val_accuracy: 0.2286\n",
      "Epoch 35/100\n",
      "14/14 [==============================] - 37s 3s/step - loss: 1.6973 - accuracy: 0.5048 - val_loss: 2.2790 - val_accuracy: 0.3429\n",
      "Epoch 36/100\n",
      "14/14 [==============================] - 40s 3s/step - loss: 1.7289 - accuracy: 0.5179 - val_loss: 2.2730 - val_accuracy: 0.3429\n",
      "Epoch 37/100\n",
      "14/14 [==============================] - 37s 3s/step - loss: 1.5591 - accuracy: 0.5524 - val_loss: 2.2203 - val_accuracy: 0.3286\n",
      "Epoch 38/100\n",
      "14/14 [==============================] - 38s 3s/step - loss: 1.4975 - accuracy: 0.5524 - val_loss: 2.1768 - val_accuracy: 0.3857\n",
      "Epoch 39/100\n",
      "14/14 [==============================] - 38s 3s/step - loss: 1.6442 - accuracy: 0.5810 - val_loss: 2.9118 - val_accuracy: 0.3000\n",
      "Epoch 40/100\n",
      "14/14 [==============================] - 38s 3s/step - loss: 1.7094 - accuracy: 0.5524 - val_loss: 2.1770 - val_accuracy: 0.4429\n",
      "Epoch 41/100\n",
      "14/14 [==============================] - 36s 3s/step - loss: 1.4169 - accuracy: 0.6476 - val_loss: 2.3208 - val_accuracy: 0.2857\n",
      "Epoch 42/100\n",
      "14/14 [==============================] - 39s 3s/step - loss: 1.2764 - accuracy: 0.6696 - val_loss: 2.1487 - val_accuracy: 0.3714\n",
      "Epoch 43/100\n",
      "14/14 [==============================] - 37s 3s/step - loss: 1.3116 - accuracy: 0.6667 - val_loss: 2.1032 - val_accuracy: 0.4000\n",
      "Epoch 44/100\n",
      "14/14 [==============================] - 37s 3s/step - loss: 1.2084 - accuracy: 0.7143 - val_loss: 2.1168 - val_accuracy: 0.2857\n",
      "Epoch 45/100\n",
      "14/14 [==============================] - 38s 3s/step - loss: 1.2541 - accuracy: 0.6952 - val_loss: 2.1561 - val_accuracy: 0.4286\n",
      "Epoch 46/100\n",
      "14/14 [==============================] - 37s 3s/step - loss: 1.4278 - accuracy: 0.6286 - val_loss: 2.1328 - val_accuracy: 0.3000\n",
      "Epoch 47/100\n",
      "14/14 [==============================] - 38s 3s/step - loss: 1.1835 - accuracy: 0.7048 - val_loss: 2.2961 - val_accuracy: 0.3571\n",
      "Epoch 48/100\n",
      "14/14 [==============================] - 37s 3s/step - loss: 1.3616 - accuracy: 0.5714 - val_loss: 2.2877 - val_accuracy: 0.3857\n",
      "Epoch 49/100\n",
      "14/14 [==============================] - 37s 3s/step - loss: 1.1943 - accuracy: 0.6667 - val_loss: 2.5874 - val_accuracy: 0.2857\n",
      "Epoch 50/100\n",
      "14/14 [==============================] - 39s 3s/step - loss: 1.5227 - accuracy: 0.5238 - val_loss: 2.8433 - val_accuracy: 0.2857\n",
      "Epoch 51/100\n",
      "14/14 [==============================] - 37s 3s/step - loss: 1.4625 - accuracy: 0.6476 - val_loss: 2.7987 - val_accuracy: 0.3571\n",
      "Epoch 52/100\n",
      "14/14 [==============================] - 38s 3s/step - loss: 1.3052 - accuracy: 0.6000 - val_loss: 2.1954 - val_accuracy: 0.3571\n",
      "Epoch 53/100\n",
      "14/14 [==============================] - 38s 3s/step - loss: 1.2518 - accuracy: 0.6667 - val_loss: 2.1519 - val_accuracy: 0.4143\n"
     ]
    },
    {
     "data": {
      "text/plain": [
       "<keras.callbacks.History at 0x298365d6880>"
      ]
     },
     "execution_count": 18,
     "metadata": {},
     "output_type": "execute_result"
    }
   ],
   "source": [
    "model_vgg16.fit(datagen.flow(x_train, y_train, batch_size=5),\n",
    "         steps_per_epoch=len(x_train) // 5, epochs=100,\n",
    "         batch_size = 32,\n",
    "         validation_data=datagen.flow(x_valid,y_valid),\n",
    "         callbacks=[earlyStopping])"
   ]
  },
  {
   "cell_type": "markdown",
   "metadata": {},
   "source": [
    "## Masked Face Recognition MobileNet (MobileNet)"
   ]
  },
  {
   "cell_type": "code",
   "execution_count": 26,
   "metadata": {},
   "outputs": [],
   "source": [
    "from tensorflow.keras.applications.mobilenet import MobileNet"
   ]
  },
  {
   "cell_type": "code",
   "execution_count": 27,
   "metadata": {},
   "outputs": [
    {
     "name": "stdout",
     "output_type": "stream",
     "text": [
      "Model: \"mobilenet_1.00_224\"\n",
      "_________________________________________________________________\n",
      "Layer (type)                 Output Shape              Param #   \n",
      "=================================================================\n",
      "input_3 (InputLayer)         [(None, 224, 224, 3)]     0         \n",
      "_________________________________________________________________\n",
      "conv1 (Conv2D)               (None, 112, 112, 32)      864       \n",
      "_________________________________________________________________\n",
      "conv1_bn (BatchNormalization (None, 112, 112, 32)      128       \n",
      "_________________________________________________________________\n",
      "conv1_relu (ReLU)            (None, 112, 112, 32)      0         \n",
      "_________________________________________________________________\n",
      "conv_dw_1 (DepthwiseConv2D)  (None, 112, 112, 32)      288       \n",
      "_________________________________________________________________\n",
      "conv_dw_1_bn (BatchNormaliza (None, 112, 112, 32)      128       \n",
      "_________________________________________________________________\n",
      "conv_dw_1_relu (ReLU)        (None, 112, 112, 32)      0         \n",
      "_________________________________________________________________\n",
      "conv_pw_1 (Conv2D)           (None, 112, 112, 64)      2048      \n",
      "_________________________________________________________________\n",
      "conv_pw_1_bn (BatchNormaliza (None, 112, 112, 64)      256       \n",
      "_________________________________________________________________\n",
      "conv_pw_1_relu (ReLU)        (None, 112, 112, 64)      0         \n",
      "_________________________________________________________________\n",
      "conv_pad_2 (ZeroPadding2D)   (None, 113, 113, 64)      0         \n",
      "_________________________________________________________________\n",
      "conv_dw_2 (DepthwiseConv2D)  (None, 56, 56, 64)        576       \n",
      "_________________________________________________________________\n",
      "conv_dw_2_bn (BatchNormaliza (None, 56, 56, 64)        256       \n",
      "_________________________________________________________________\n",
      "conv_dw_2_relu (ReLU)        (None, 56, 56, 64)        0         \n",
      "_________________________________________________________________\n",
      "conv_pw_2 (Conv2D)           (None, 56, 56, 128)       8192      \n",
      "_________________________________________________________________\n",
      "conv_pw_2_bn (BatchNormaliza (None, 56, 56, 128)       512       \n",
      "_________________________________________________________________\n",
      "conv_pw_2_relu (ReLU)        (None, 56, 56, 128)       0         \n",
      "_________________________________________________________________\n",
      "conv_dw_3 (DepthwiseConv2D)  (None, 56, 56, 128)       1152      \n",
      "_________________________________________________________________\n",
      "conv_dw_3_bn (BatchNormaliza (None, 56, 56, 128)       512       \n",
      "_________________________________________________________________\n",
      "conv_dw_3_relu (ReLU)        (None, 56, 56, 128)       0         \n",
      "_________________________________________________________________\n",
      "conv_pw_3 (Conv2D)           (None, 56, 56, 128)       16384     \n",
      "_________________________________________________________________\n",
      "conv_pw_3_bn (BatchNormaliza (None, 56, 56, 128)       512       \n",
      "_________________________________________________________________\n",
      "conv_pw_3_relu (ReLU)        (None, 56, 56, 128)       0         \n",
      "_________________________________________________________________\n",
      "conv_pad_4 (ZeroPadding2D)   (None, 57, 57, 128)       0         \n",
      "_________________________________________________________________\n",
      "conv_dw_4 (DepthwiseConv2D)  (None, 28, 28, 128)       1152      \n",
      "_________________________________________________________________\n",
      "conv_dw_4_bn (BatchNormaliza (None, 28, 28, 128)       512       \n",
      "_________________________________________________________________\n",
      "conv_dw_4_relu (ReLU)        (None, 28, 28, 128)       0         \n",
      "_________________________________________________________________\n",
      "conv_pw_4 (Conv2D)           (None, 28, 28, 256)       32768     \n",
      "_________________________________________________________________\n",
      "conv_pw_4_bn (BatchNormaliza (None, 28, 28, 256)       1024      \n",
      "_________________________________________________________________\n",
      "conv_pw_4_relu (ReLU)        (None, 28, 28, 256)       0         \n",
      "_________________________________________________________________\n",
      "conv_dw_5 (DepthwiseConv2D)  (None, 28, 28, 256)       2304      \n",
      "_________________________________________________________________\n",
      "conv_dw_5_bn (BatchNormaliza (None, 28, 28, 256)       1024      \n",
      "_________________________________________________________________\n",
      "conv_dw_5_relu (ReLU)        (None, 28, 28, 256)       0         \n",
      "_________________________________________________________________\n",
      "conv_pw_5 (Conv2D)           (None, 28, 28, 256)       65536     \n",
      "_________________________________________________________________\n",
      "conv_pw_5_bn (BatchNormaliza (None, 28, 28, 256)       1024      \n",
      "_________________________________________________________________\n",
      "conv_pw_5_relu (ReLU)        (None, 28, 28, 256)       0         \n",
      "_________________________________________________________________\n",
      "conv_pad_6 (ZeroPadding2D)   (None, 29, 29, 256)       0         \n",
      "_________________________________________________________________\n",
      "conv_dw_6 (DepthwiseConv2D)  (None, 14, 14, 256)       2304      \n",
      "_________________________________________________________________\n",
      "conv_dw_6_bn (BatchNormaliza (None, 14, 14, 256)       1024      \n",
      "_________________________________________________________________\n",
      "conv_dw_6_relu (ReLU)        (None, 14, 14, 256)       0         \n",
      "_________________________________________________________________\n",
      "conv_pw_6 (Conv2D)           (None, 14, 14, 512)       131072    \n",
      "_________________________________________________________________\n",
      "conv_pw_6_bn (BatchNormaliza (None, 14, 14, 512)       2048      \n",
      "_________________________________________________________________\n",
      "conv_pw_6_relu (ReLU)        (None, 14, 14, 512)       0         \n",
      "_________________________________________________________________\n",
      "conv_dw_7 (DepthwiseConv2D)  (None, 14, 14, 512)       4608      \n",
      "_________________________________________________________________\n",
      "conv_dw_7_bn (BatchNormaliza (None, 14, 14, 512)       2048      \n",
      "_________________________________________________________________\n",
      "conv_dw_7_relu (ReLU)        (None, 14, 14, 512)       0         \n",
      "_________________________________________________________________\n",
      "conv_pw_7 (Conv2D)           (None, 14, 14, 512)       262144    \n",
      "_________________________________________________________________\n",
      "conv_pw_7_bn (BatchNormaliza (None, 14, 14, 512)       2048      \n",
      "_________________________________________________________________\n",
      "conv_pw_7_relu (ReLU)        (None, 14, 14, 512)       0         \n",
      "_________________________________________________________________\n",
      "conv_dw_8 (DepthwiseConv2D)  (None, 14, 14, 512)       4608      \n",
      "_________________________________________________________________\n",
      "conv_dw_8_bn (BatchNormaliza (None, 14, 14, 512)       2048      \n",
      "_________________________________________________________________\n",
      "conv_dw_8_relu (ReLU)        (None, 14, 14, 512)       0         \n",
      "_________________________________________________________________\n",
      "conv_pw_8 (Conv2D)           (None, 14, 14, 512)       262144    \n",
      "_________________________________________________________________\n",
      "conv_pw_8_bn (BatchNormaliza (None, 14, 14, 512)       2048      \n",
      "_________________________________________________________________\n",
      "conv_pw_8_relu (ReLU)        (None, 14, 14, 512)       0         \n",
      "_________________________________________________________________\n",
      "conv_dw_9 (DepthwiseConv2D)  (None, 14, 14, 512)       4608      \n",
      "_________________________________________________________________\n",
      "conv_dw_9_bn (BatchNormaliza (None, 14, 14, 512)       2048      \n",
      "_________________________________________________________________\n",
      "conv_dw_9_relu (ReLU)        (None, 14, 14, 512)       0         \n",
      "_________________________________________________________________\n",
      "conv_pw_9 (Conv2D)           (None, 14, 14, 512)       262144    \n",
      "_________________________________________________________________\n",
      "conv_pw_9_bn (BatchNormaliza (None, 14, 14, 512)       2048      \n",
      "_________________________________________________________________\n",
      "conv_pw_9_relu (ReLU)        (None, 14, 14, 512)       0         \n",
      "_________________________________________________________________\n",
      "conv_dw_10 (DepthwiseConv2D) (None, 14, 14, 512)       4608      \n",
      "_________________________________________________________________\n",
      "conv_dw_10_bn (BatchNormaliz (None, 14, 14, 512)       2048      \n",
      "_________________________________________________________________\n",
      "conv_dw_10_relu (ReLU)       (None, 14, 14, 512)       0         \n",
      "_________________________________________________________________\n",
      "conv_pw_10 (Conv2D)          (None, 14, 14, 512)       262144    \n",
      "_________________________________________________________________\n",
      "conv_pw_10_bn (BatchNormaliz (None, 14, 14, 512)       2048      \n",
      "_________________________________________________________________\n",
      "conv_pw_10_relu (ReLU)       (None, 14, 14, 512)       0         \n",
      "_________________________________________________________________\n",
      "conv_dw_11 (DepthwiseConv2D) (None, 14, 14, 512)       4608      \n",
      "_________________________________________________________________\n",
      "conv_dw_11_bn (BatchNormaliz (None, 14, 14, 512)       2048      \n",
      "_________________________________________________________________\n",
      "conv_dw_11_relu (ReLU)       (None, 14, 14, 512)       0         \n",
      "_________________________________________________________________\n",
      "conv_pw_11 (Conv2D)          (None, 14, 14, 512)       262144    \n",
      "_________________________________________________________________\n",
      "conv_pw_11_bn (BatchNormaliz (None, 14, 14, 512)       2048      \n",
      "_________________________________________________________________\n",
      "conv_pw_11_relu (ReLU)       (None, 14, 14, 512)       0         \n",
      "_________________________________________________________________\n",
      "conv_pad_12 (ZeroPadding2D)  (None, 15, 15, 512)       0         \n",
      "_________________________________________________________________\n",
      "conv_dw_12 (DepthwiseConv2D) (None, 7, 7, 512)         4608      \n",
      "_________________________________________________________________\n",
      "conv_dw_12_bn (BatchNormaliz (None, 7, 7, 512)         2048      \n",
      "_________________________________________________________________\n",
      "conv_dw_12_relu (ReLU)       (None, 7, 7, 512)         0         \n",
      "_________________________________________________________________\n",
      "conv_pw_12 (Conv2D)          (None, 7, 7, 1024)        524288    \n",
      "_________________________________________________________________\n",
      "conv_pw_12_bn (BatchNormaliz (None, 7, 7, 1024)        4096      \n",
      "_________________________________________________________________\n",
      "conv_pw_12_relu (ReLU)       (None, 7, 7, 1024)        0         \n",
      "_________________________________________________________________\n",
      "conv_dw_13 (DepthwiseConv2D) (None, 7, 7, 1024)        9216      \n",
      "_________________________________________________________________\n",
      "conv_dw_13_bn (BatchNormaliz (None, 7, 7, 1024)        4096      \n",
      "_________________________________________________________________\n",
      "conv_dw_13_relu (ReLU)       (None, 7, 7, 1024)        0         \n",
      "_________________________________________________________________\n",
      "conv_pw_13 (Conv2D)          (None, 7, 7, 1024)        1048576   \n",
      "_________________________________________________________________\n",
      "conv_pw_13_bn (BatchNormaliz (None, 7, 7, 1024)        4096      \n",
      "_________________________________________________________________\n",
      "conv_pw_13_relu (ReLU)       (None, 7, 7, 1024)        0         \n",
      "=================================================================\n",
      "Total params: 3,228,864\n",
      "Trainable params: 3,206,976\n",
      "Non-trainable params: 21,888\n",
      "_________________________________________________________________\n"
     ]
    }
   ],
   "source": [
    "mobilenet_model = MobileNet(weights = 'imagenet',\n",
    "                           include_top=False,\n",
    "                           input_shape=(224,224,3))\n",
    "mobilenet_model.summary()"
   ]
  },
  {
   "cell_type": "code",
   "execution_count": 28,
   "metadata": {},
   "outputs": [],
   "source": [
    "for layer in mobilenet_model.layers:\n",
    "    layer.trainable=False"
   ]
  },
  {
   "cell_type": "code",
   "execution_count": 29,
   "metadata": {},
   "outputs": [],
   "source": [
    "def lw(bottom_model, num_classes):\n",
    "    top_model = bottom_model.output\n",
    "    top_model = GlobalAveragePooling2D()(top_model)\n",
    "    top_model = Dense(1024,activation='relu')(top_model)\n",
    "    top_model = Dense(1024,activation='relu')(top_model)\n",
    "    top_model = Dense(512,activation='relu')(top_model)\n",
    "    top_model = Dense(num_classes,activation='softmax')(top_model)\n",
    "    return top_model"
   ]
  },
  {
   "cell_type": "code",
   "execution_count": 30,
   "metadata": {},
   "outputs": [
    {
     "name": "stdout",
     "output_type": "stream",
     "text": [
      "Model: \"model_2\"\n",
      "_________________________________________________________________\n",
      "Layer (type)                 Output Shape              Param #   \n",
      "=================================================================\n",
      "input_3 (InputLayer)         [(None, 224, 224, 3)]     0         \n",
      "_________________________________________________________________\n",
      "conv1 (Conv2D)               (None, 112, 112, 32)      864       \n",
      "_________________________________________________________________\n",
      "conv1_bn (BatchNormalization (None, 112, 112, 32)      128       \n",
      "_________________________________________________________________\n",
      "conv1_relu (ReLU)            (None, 112, 112, 32)      0         \n",
      "_________________________________________________________________\n",
      "conv_dw_1 (DepthwiseConv2D)  (None, 112, 112, 32)      288       \n",
      "_________________________________________________________________\n",
      "conv_dw_1_bn (BatchNormaliza (None, 112, 112, 32)      128       \n",
      "_________________________________________________________________\n",
      "conv_dw_1_relu (ReLU)        (None, 112, 112, 32)      0         \n",
      "_________________________________________________________________\n",
      "conv_pw_1 (Conv2D)           (None, 112, 112, 64)      2048      \n",
      "_________________________________________________________________\n",
      "conv_pw_1_bn (BatchNormaliza (None, 112, 112, 64)      256       \n",
      "_________________________________________________________________\n",
      "conv_pw_1_relu (ReLU)        (None, 112, 112, 64)      0         \n",
      "_________________________________________________________________\n",
      "conv_pad_2 (ZeroPadding2D)   (None, 113, 113, 64)      0         \n",
      "_________________________________________________________________\n",
      "conv_dw_2 (DepthwiseConv2D)  (None, 56, 56, 64)        576       \n",
      "_________________________________________________________________\n",
      "conv_dw_2_bn (BatchNormaliza (None, 56, 56, 64)        256       \n",
      "_________________________________________________________________\n",
      "conv_dw_2_relu (ReLU)        (None, 56, 56, 64)        0         \n",
      "_________________________________________________________________\n",
      "conv_pw_2 (Conv2D)           (None, 56, 56, 128)       8192      \n",
      "_________________________________________________________________\n",
      "conv_pw_2_bn (BatchNormaliza (None, 56, 56, 128)       512       \n",
      "_________________________________________________________________\n",
      "conv_pw_2_relu (ReLU)        (None, 56, 56, 128)       0         \n",
      "_________________________________________________________________\n",
      "conv_dw_3 (DepthwiseConv2D)  (None, 56, 56, 128)       1152      \n",
      "_________________________________________________________________\n",
      "conv_dw_3_bn (BatchNormaliza (None, 56, 56, 128)       512       \n",
      "_________________________________________________________________\n",
      "conv_dw_3_relu (ReLU)        (None, 56, 56, 128)       0         \n",
      "_________________________________________________________________\n",
      "conv_pw_3 (Conv2D)           (None, 56, 56, 128)       16384     \n",
      "_________________________________________________________________\n",
      "conv_pw_3_bn (BatchNormaliza (None, 56, 56, 128)       512       \n",
      "_________________________________________________________________\n",
      "conv_pw_3_relu (ReLU)        (None, 56, 56, 128)       0         \n",
      "_________________________________________________________________\n",
      "conv_pad_4 (ZeroPadding2D)   (None, 57, 57, 128)       0         \n",
      "_________________________________________________________________\n",
      "conv_dw_4 (DepthwiseConv2D)  (None, 28, 28, 128)       1152      \n",
      "_________________________________________________________________\n",
      "conv_dw_4_bn (BatchNormaliza (None, 28, 28, 128)       512       \n",
      "_________________________________________________________________\n",
      "conv_dw_4_relu (ReLU)        (None, 28, 28, 128)       0         \n",
      "_________________________________________________________________\n",
      "conv_pw_4 (Conv2D)           (None, 28, 28, 256)       32768     \n",
      "_________________________________________________________________\n",
      "conv_pw_4_bn (BatchNormaliza (None, 28, 28, 256)       1024      \n",
      "_________________________________________________________________\n",
      "conv_pw_4_relu (ReLU)        (None, 28, 28, 256)       0         \n",
      "_________________________________________________________________\n",
      "conv_dw_5 (DepthwiseConv2D)  (None, 28, 28, 256)       2304      \n",
      "_________________________________________________________________\n",
      "conv_dw_5_bn (BatchNormaliza (None, 28, 28, 256)       1024      \n",
      "_________________________________________________________________\n",
      "conv_dw_5_relu (ReLU)        (None, 28, 28, 256)       0         \n",
      "_________________________________________________________________\n",
      "conv_pw_5 (Conv2D)           (None, 28, 28, 256)       65536     \n",
      "_________________________________________________________________\n",
      "conv_pw_5_bn (BatchNormaliza (None, 28, 28, 256)       1024      \n",
      "_________________________________________________________________\n",
      "conv_pw_5_relu (ReLU)        (None, 28, 28, 256)       0         \n",
      "_________________________________________________________________\n",
      "conv_pad_6 (ZeroPadding2D)   (None, 29, 29, 256)       0         \n",
      "_________________________________________________________________\n",
      "conv_dw_6 (DepthwiseConv2D)  (None, 14, 14, 256)       2304      \n",
      "_________________________________________________________________\n",
      "conv_dw_6_bn (BatchNormaliza (None, 14, 14, 256)       1024      \n",
      "_________________________________________________________________\n",
      "conv_dw_6_relu (ReLU)        (None, 14, 14, 256)       0         \n",
      "_________________________________________________________________\n",
      "conv_pw_6 (Conv2D)           (None, 14, 14, 512)       131072    \n",
      "_________________________________________________________________\n",
      "conv_pw_6_bn (BatchNormaliza (None, 14, 14, 512)       2048      \n",
      "_________________________________________________________________\n",
      "conv_pw_6_relu (ReLU)        (None, 14, 14, 512)       0         \n",
      "_________________________________________________________________\n",
      "conv_dw_7 (DepthwiseConv2D)  (None, 14, 14, 512)       4608      \n",
      "_________________________________________________________________\n",
      "conv_dw_7_bn (BatchNormaliza (None, 14, 14, 512)       2048      \n",
      "_________________________________________________________________\n",
      "conv_dw_7_relu (ReLU)        (None, 14, 14, 512)       0         \n",
      "_________________________________________________________________\n",
      "conv_pw_7 (Conv2D)           (None, 14, 14, 512)       262144    \n",
      "_________________________________________________________________\n",
      "conv_pw_7_bn (BatchNormaliza (None, 14, 14, 512)       2048      \n",
      "_________________________________________________________________\n",
      "conv_pw_7_relu (ReLU)        (None, 14, 14, 512)       0         \n",
      "_________________________________________________________________\n",
      "conv_dw_8 (DepthwiseConv2D)  (None, 14, 14, 512)       4608      \n",
      "_________________________________________________________________\n",
      "conv_dw_8_bn (BatchNormaliza (None, 14, 14, 512)       2048      \n",
      "_________________________________________________________________\n",
      "conv_dw_8_relu (ReLU)        (None, 14, 14, 512)       0         \n",
      "_________________________________________________________________\n",
      "conv_pw_8 (Conv2D)           (None, 14, 14, 512)       262144    \n",
      "_________________________________________________________________\n",
      "conv_pw_8_bn (BatchNormaliza (None, 14, 14, 512)       2048      \n",
      "_________________________________________________________________\n",
      "conv_pw_8_relu (ReLU)        (None, 14, 14, 512)       0         \n",
      "_________________________________________________________________\n",
      "conv_dw_9 (DepthwiseConv2D)  (None, 14, 14, 512)       4608      \n",
      "_________________________________________________________________\n",
      "conv_dw_9_bn (BatchNormaliza (None, 14, 14, 512)       2048      \n",
      "_________________________________________________________________\n",
      "conv_dw_9_relu (ReLU)        (None, 14, 14, 512)       0         \n",
      "_________________________________________________________________\n",
      "conv_pw_9 (Conv2D)           (None, 14, 14, 512)       262144    \n",
      "_________________________________________________________________\n",
      "conv_pw_9_bn (BatchNormaliza (None, 14, 14, 512)       2048      \n",
      "_________________________________________________________________\n",
      "conv_pw_9_relu (ReLU)        (None, 14, 14, 512)       0         \n",
      "_________________________________________________________________\n",
      "conv_dw_10 (DepthwiseConv2D) (None, 14, 14, 512)       4608      \n",
      "_________________________________________________________________\n",
      "conv_dw_10_bn (BatchNormaliz (None, 14, 14, 512)       2048      \n",
      "_________________________________________________________________\n",
      "conv_dw_10_relu (ReLU)       (None, 14, 14, 512)       0         \n",
      "_________________________________________________________________\n",
      "conv_pw_10 (Conv2D)          (None, 14, 14, 512)       262144    \n",
      "_________________________________________________________________\n",
      "conv_pw_10_bn (BatchNormaliz (None, 14, 14, 512)       2048      \n",
      "_________________________________________________________________\n",
      "conv_pw_10_relu (ReLU)       (None, 14, 14, 512)       0         \n",
      "_________________________________________________________________\n",
      "conv_dw_11 (DepthwiseConv2D) (None, 14, 14, 512)       4608      \n",
      "_________________________________________________________________\n",
      "conv_dw_11_bn (BatchNormaliz (None, 14, 14, 512)       2048      \n",
      "_________________________________________________________________\n",
      "conv_dw_11_relu (ReLU)       (None, 14, 14, 512)       0         \n",
      "_________________________________________________________________\n",
      "conv_pw_11 (Conv2D)          (None, 14, 14, 512)       262144    \n",
      "_________________________________________________________________\n",
      "conv_pw_11_bn (BatchNormaliz (None, 14, 14, 512)       2048      \n",
      "_________________________________________________________________\n",
      "conv_pw_11_relu (ReLU)       (None, 14, 14, 512)       0         \n",
      "_________________________________________________________________\n",
      "conv_pad_12 (ZeroPadding2D)  (None, 15, 15, 512)       0         \n",
      "_________________________________________________________________\n",
      "conv_dw_12 (DepthwiseConv2D) (None, 7, 7, 512)         4608      \n",
      "_________________________________________________________________\n",
      "conv_dw_12_bn (BatchNormaliz (None, 7, 7, 512)         2048      \n",
      "_________________________________________________________________\n",
      "conv_dw_12_relu (ReLU)       (None, 7, 7, 512)         0         \n",
      "_________________________________________________________________\n",
      "conv_pw_12 (Conv2D)          (None, 7, 7, 1024)        524288    \n",
      "_________________________________________________________________\n",
      "conv_pw_12_bn (BatchNormaliz (None, 7, 7, 1024)        4096      \n",
      "_________________________________________________________________\n",
      "conv_pw_12_relu (ReLU)       (None, 7, 7, 1024)        0         \n",
      "_________________________________________________________________\n",
      "conv_dw_13 (DepthwiseConv2D) (None, 7, 7, 1024)        9216      \n",
      "_________________________________________________________________\n",
      "conv_dw_13_bn (BatchNormaliz (None, 7, 7, 1024)        4096      \n",
      "_________________________________________________________________\n",
      "conv_dw_13_relu (ReLU)       (None, 7, 7, 1024)        0         \n",
      "_________________________________________________________________\n",
      "conv_pw_13 (Conv2D)          (None, 7, 7, 1024)        1048576   \n",
      "_________________________________________________________________\n",
      "conv_pw_13_bn (BatchNormaliz (None, 7, 7, 1024)        4096      \n",
      "_________________________________________________________________\n",
      "conv_pw_13_relu (ReLU)       (None, 7, 7, 1024)        0         \n",
      "_________________________________________________________________\n",
      "global_average_pooling2d_2 ( (None, 1024)              0         \n",
      "_________________________________________________________________\n",
      "dense_8 (Dense)              (None, 1024)              1049600   \n",
      "_________________________________________________________________\n",
      "dense_9 (Dense)              (None, 1024)              1049600   \n",
      "_________________________________________________________________\n",
      "dense_10 (Dense)             (None, 512)               524800    \n",
      "_________________________________________________________________\n",
      "dense_11 (Dense)             (None, 23)                11799     \n",
      "=================================================================\n",
      "Total params: 5,864,663\n",
      "Trainable params: 2,635,799\n",
      "Non-trainable params: 3,228,864\n",
      "_________________________________________________________________\n"
     ]
    }
   ],
   "source": [
    "from keras.layers import Dense, Dropout, Activation, Flatten, GlobalAveragePooling2D\n",
    "from keras.models import Model\n",
    "num_classes = 23\n",
    "FC_Head = lw(mobilenet_model, num_classes)\n",
    "mobilenet_model = Model(inputs = mobilenet_model.input, outputs = FC_Head)\n",
    "mobilenet_model.summary()"
   ]
  },
  {
   "cell_type": "code",
   "execution_count": 31,
   "metadata": {},
   "outputs": [],
   "source": [
    "from tensorflow.keras import optimizers\n",
    "from tensorflow.keras.callbacks import EarlyStopping\n",
    "\n",
    "earlyStopping = EarlyStopping(monitor='val_loss',\n",
    "                              min_delta=0,\n",
    "                              patience=10,\n",
    "                              verbose=1,\n",
    "                              mode='min',\n",
    "                              restore_best_weights = True)\n",
    "mobilenet_model.compile(optimizer=optimizers.Adam(learning_rate=0.001),\n",
    "                    loss='sparse_categorical_crossentropy',\n",
    "                    metrics=['accuracy'])"
   ]
  },
  {
   "cell_type": "code",
   "execution_count": 32,
   "metadata": {},
   "outputs": [
    {
     "name": "stdout",
     "output_type": "stream",
     "text": [
      "Epoch 1/100\n",
      "28/28 [==============================] - 9s 220ms/step - loss: 3.4391 - accuracy: 0.0917 - val_loss: 3.2593 - val_accuracy: 0.1000\n",
      "Epoch 2/100\n",
      "28/28 [==============================] - 5s 176ms/step - loss: 2.8405 - accuracy: 0.1560 - val_loss: 2.7703 - val_accuracy: 0.1714\n",
      "Epoch 3/100\n",
      "28/28 [==============================] - 5s 177ms/step - loss: 2.4430 - accuracy: 0.2477 - val_loss: 2.5191 - val_accuracy: 0.1429\n",
      "Epoch 4/100\n",
      "28/28 [==============================] - 5s 175ms/step - loss: 2.0446 - accuracy: 0.3578 - val_loss: 2.4730 - val_accuracy: 0.2143\n",
      "Epoch 5/100\n",
      "28/28 [==============================] - 5s 176ms/step - loss: 1.7850 - accuracy: 0.4587 - val_loss: 2.2933 - val_accuracy: 0.3000\n",
      "Epoch 6/100\n",
      "28/28 [==============================] - 5s 178ms/step - loss: 1.4695 - accuracy: 0.5046 - val_loss: 1.9060 - val_accuracy: 0.4000\n",
      "Epoch 7/100\n",
      "28/28 [==============================] - 5s 182ms/step - loss: 1.1717 - accuracy: 0.6147 - val_loss: 2.4592 - val_accuracy: 0.3286\n",
      "Epoch 8/100\n",
      "28/28 [==============================] - 5s 182ms/step - loss: 1.3042 - accuracy: 0.6330 - val_loss: 2.0353 - val_accuracy: 0.2571\n",
      "Epoch 9/100\n",
      "28/28 [==============================] - 5s 184ms/step - loss: 1.1929 - accuracy: 0.5688 - val_loss: 1.6866 - val_accuracy: 0.4429\n",
      "Epoch 10/100\n",
      "28/28 [==============================] - 5s 189ms/step - loss: 0.7482 - accuracy: 0.7248 - val_loss: 1.5094 - val_accuracy: 0.5429\n",
      "Epoch 11/100\n",
      "28/28 [==============================] - 5s 188ms/step - loss: 0.6731 - accuracy: 0.8165 - val_loss: 1.6972 - val_accuracy: 0.4143\n",
      "Epoch 12/100\n",
      "28/28 [==============================] - 5s 181ms/step - loss: 0.8057 - accuracy: 0.7248 - val_loss: 1.4572 - val_accuracy: 0.5286\n",
      "Epoch 13/100\n",
      "28/28 [==============================] - 6s 197ms/step - loss: 0.6235 - accuracy: 0.8257 - val_loss: 1.4654 - val_accuracy: 0.5714\n",
      "Epoch 14/100\n",
      "28/28 [==============================] - 5s 186ms/step - loss: 0.5370 - accuracy: 0.8257 - val_loss: 1.0258 - val_accuracy: 0.6286\n",
      "Epoch 15/100\n",
      "28/28 [==============================] - 5s 184ms/step - loss: 0.4432 - accuracy: 0.8532 - val_loss: 1.3752 - val_accuracy: 0.5143\n",
      "Epoch 16/100\n",
      "28/28 [==============================] - 5s 177ms/step - loss: 0.5257 - accuracy: 0.7798 - val_loss: 1.1648 - val_accuracy: 0.6714\n",
      "Epoch 17/100\n",
      "28/28 [==============================] - 5s 186ms/step - loss: 0.3815 - accuracy: 0.8991 - val_loss: 1.3686 - val_accuracy: 0.6286\n",
      "Epoch 18/100\n",
      "28/28 [==============================] - 5s 182ms/step - loss: 0.3605 - accuracy: 0.8991 - val_loss: 1.1353 - val_accuracy: 0.6571\n",
      "Epoch 19/100\n",
      "28/28 [==============================] - 5s 179ms/step - loss: 0.2831 - accuracy: 0.8991 - val_loss: 1.2897 - val_accuracy: 0.6714\n",
      "Epoch 20/100\n",
      "28/28 [==============================] - 5s 183ms/step - loss: 0.2314 - accuracy: 0.9450 - val_loss: 0.9036 - val_accuracy: 0.7143\n",
      "Epoch 21/100\n",
      "28/28 [==============================] - 5s 182ms/step - loss: 0.2023 - accuracy: 0.9083 - val_loss: 1.2735 - val_accuracy: 0.6714\n",
      "Epoch 22/100\n",
      "28/28 [==============================] - 5s 194ms/step - loss: 0.4659 - accuracy: 0.8807 - val_loss: 1.6811 - val_accuracy: 0.6143\n",
      "Epoch 23/100\n",
      "28/28 [==============================] - 5s 182ms/step - loss: 0.2787 - accuracy: 0.9358 - val_loss: 1.2983 - val_accuracy: 0.6714\n",
      "Epoch 24/100\n",
      "28/28 [==============================] - 5s 179ms/step - loss: 0.2448 - accuracy: 0.8991 - val_loss: 1.3337 - val_accuracy: 0.6571\n",
      "Epoch 25/100\n",
      "28/28 [==============================] - 5s 174ms/step - loss: 0.4418 - accuracy: 0.8807 - val_loss: 1.7965 - val_accuracy: 0.6143\n",
      "Epoch 26/100\n",
      "28/28 [==============================] - 5s 186ms/step - loss: 0.3659 - accuracy: 0.9083 - val_loss: 1.2427 - val_accuracy: 0.6286\n",
      "Epoch 27/100\n",
      "28/28 [==============================] - 5s 179ms/step - loss: 0.2526 - accuracy: 0.9083 - val_loss: 1.2895 - val_accuracy: 0.6714\n",
      "Epoch 28/100\n",
      "28/28 [==============================] - 5s 177ms/step - loss: 0.5419 - accuracy: 0.8532 - val_loss: 1.0749 - val_accuracy: 0.6571\n",
      "Epoch 29/100\n",
      "28/28 [==============================] - 5s 178ms/step - loss: 0.2067 - accuracy: 0.9266 - val_loss: 1.5418 - val_accuracy: 0.6143\n",
      "Epoch 30/100\n",
      "28/28 [==============================] - 5s 176ms/step - loss: 0.2476 - accuracy: 0.9083 - val_loss: 1.4998 - val_accuracy: 0.6000\n",
      "Restoring model weights from the end of the best epoch.\n",
      "Epoch 00030: early stopping\n"
     ]
    },
    {
     "data": {
      "text/plain": [
       "<keras.callbacks.History at 0x2180e959790>"
      ]
     },
     "execution_count": 32,
     "metadata": {},
     "output_type": "execute_result"
    }
   ],
   "source": [
    "mobilenet_model.fit(datagen.flow(x_train, y_train, batch_size=4),\n",
    "         steps_per_epoch=len(x_train) // 4, epochs=100,\n",
    "         validation_data=(x_valid,y_valid),\n",
    "         callbacks=[earlyStopping])"
   ]
  },
  {
   "cell_type": "code",
   "execution_count": 33,
   "metadata": {},
   "outputs": [
    {
     "name": "stdout",
     "output_type": "stream",
     "text": [
      "2/2 - 1s - loss: 1.2592 - accuracy: 0.6957\n",
      "Trained model, accuracy: 69.57%\n"
     ]
    },
    {
     "data": {
      "image/png": "[encoded data removed]",
      "text/plain": [
       "<Figure size 432x288 with 2 Axes>"
      ]
     },
     "metadata": {
      "needs_background": "light"
     },
     "output_type": "display_data"
    }
   ],
   "source": [
    "%matplotlib inline\n",
    "from sklearn.metrics import confusion_matrix\n",
    "from matplotlib import pyplot as plt\n",
    "import seaborn as sns\n",
    "import numpy as np\n",
    "import pandas as pd\n",
    "y_pred = mobilenet_model.predict(x_test)\n",
    "y_pred=np.argmax(y_pred,axis=1)\n",
    "cnf_metric = confusion_matrix(y_test, y_pred)\n",
    "sns.heatmap(pd.DataFrame(cnf_metric),annot=True,cmap=\"YlGnBu\",fmt=\"g\")\n",
    "plt.ylabel('Actual Label')\n",
    "plt.xlabel('Predicted Label')\n",
    "\n",
    "loss, acc = mobilenet_model.evaluate(x_test, y_test, verbose=2)\n",
    "print(\"Trained model, accuracy: {:5.2f}%\".format(100 * acc))"
   ]
  },
  {
   "cell_type": "code",
   "execution_count": 19,
   "metadata": {},
   "outputs": [
    {
     "ename": "NameError",
     "evalue": "name 'mobilenet_model' is not defined",
     "output_type": "error",
     "traceback": [
      "\u001b[1;31m---------------------------------------------------------------------------\u001b[0m",
      "\u001b[1;31mNameError\u001b[0m                                 Traceback (most recent call last)",
      "\u001b[1;32m<ipython-input-19-c3fa1f31de77>\u001b[0m in \u001b[0;36m<module>\u001b[1;34m\u001b[0m\n\u001b[1;32m----> 1\u001b[1;33m \u001b[0my_pred\u001b[0m \u001b[1;33m=\u001b[0m \u001b[0mmobilenet_model\u001b[0m\u001b[1;33m.\u001b[0m\u001b[0mpredict\u001b[0m\u001b[1;33m(\u001b[0m\u001b[0mx_test\u001b[0m\u001b[1;33m[\u001b[0m\u001b[1;36m0\u001b[0m\u001b[1;33m]\u001b[0m\u001b[1;33m)\u001b[0m\u001b[1;33m\u001b[0m\u001b[1;33m\u001b[0m\u001b[0m\n\u001b[0m",
      "\u001b[1;31mNameError\u001b[0m: name 'mobilenet_model' is not defined"
     ]
    }
   ],
   "source": [
    "y_pred = mobilenet_model.predict(x_test[0])"
   ]
  }
 ],
 "metadata": {
  "kernelspec": {
   "display_name": "Python 3",
   "language": "python",
   "name": "python3"
  },
  "language_info": {
   "codemirror_mode": {
    "name": "ipython",
    "version": 3
   },
   "file_extension": ".py",
   "mimetype": "text/x-python",
   "name": "python",
   "nbconvert_exporter": "python",
   "pygments_lexer": "ipython3",
   "version": "3.8.5"
  }
 },
 "nbformat": 4,
 "nbformat_minor": 4
}
